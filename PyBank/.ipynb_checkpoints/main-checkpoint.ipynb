{
 "cells": [
  {
   "cell_type": "code",
   "execution_count": 1,
   "id": "a9c4d012-bf2c-4654-a198-dadf58e6c54c",
   "metadata": {},
   "outputs": [],
   "source": [
    "#Importing csv to code\n",
    "import csv"
   ]
  },
  {
   "cell_type": "code",
   "execution_count": 2,
   "id": "510d523e-fec5-40b9-a106-3350906b3c9b",
   "metadata": {},
   "outputs": [],
   "source": [
    "#Assigning pathway to variable\n",
    "csvpath = 'Resources/budget_data.csv'"
   ]
  },
  {
   "cell_type": "code",
   "execution_count": 3,
   "id": "94917dd3-0393-492c-938d-76114a1860ee",
   "metadata": {},
   "outputs": [],
   "source": [
    "#Setting variables to empty list for calculated data\n",
    "profit_losses = []\n",
    "dates = []\n",
    "prof_loss_change = []\n",
    "\n",
    "#Setting variables to 0 to iterate for data\n",
    "months = 0\n",
    "net_total = 0\n",
    "average_change = 0\n",
    "greatest_increase = 0\n",
    "greatest_decrease = 0"
   ]
  },
  {
   "cell_type": "code",
   "execution_count": 4,
   "id": "ebb01f8b-16c1-4527-b7fa-e91759f06a20",
   "metadata": {},
   "outputs": [],
   "source": [
    "#Opening csv to be read throughout code\n",
    "with open(csvpath, 'r') as csvfile:\n",
    "    #Assigning reading of csv to variable\n",
    "    csvreader = csv.reader(csvfile)\n",
    "    #Using next to skip over titles\n",
    "    header = next(csvreader)\n",
    "    #Iterating through rows in csv for empty list info\n",
    "    for row in csvreader:\n",
    "        #\n",
    "        profit_loss = int(row[1])\n",
    "        profit_losses.append(profit_loss)\n",
    "        date = str(row[0])\n",
    "        dates.append(date)\n",
    "        #Add function for total months and total net\n",
    "        months += 1\n",
    "        net_total += profit_loss\n",
    "    #Iterating through made list for new list\n",
    "    for i in range(1, len(profit_losses)):\n",
    "        prof_loss_change.append(profit_losses[i] - profit_losses[i-1])\n",
    "        #Getting rounded average of profit/loss changes\n",
    "        average_change = round(sum(prof_loss_change) / len(prof_loss_change), 2)\n",
    "        #Getting maximum and minimum from change list\n",
    "        greatest_increase = max(prof_loss_change)\n",
    "        greatest_decrease = min(prof_loss_change)\n",
    "        #Iterating through dates to get match up of max and min\n",
    "        greatest_increase_date = str(dates[prof_loss_change.index(max(prof_loss_change))])\n",
    "        greatest_decrease_date = str(dates[prof_loss_change.index(min(prof_loss_change))])\n",
    "        "
   ]
  },
  {
   "cell_type": "code",
   "execution_count": 5,
   "id": "ee67b05b-fb88-4468-80ca-44243e178888",
   "metadata": {},
   "outputs": [
    {
     "name": "stdout",
     "output_type": "stream",
     "text": [
      "Financial Analysis\n",
      "----------------------------\n",
      "Total Months: 86\n",
      "Total: $38382578\n",
      "Average Change: $-2315.12\n",
      "Greatest Increase in Profits: Jan-2012 - $1926159\n",
      "Greatest Decrease in Profits: Aug-2013 - $-2196167\n"
     ]
    }
   ],
   "source": [
    "#Formatted print statements w/answer\n",
    "print(\"Financial Analysis\")\n",
    "print(\"----------------------------\")\n",
    "print(f\"Total Months: {months}\")\n",
    "print(f\"Total: ${net_total}\")\n",
    "print(f\"Average Change: ${average_change}\")\n",
    "print(f\"Greatest Increase in Profits: {greatest_increase_date} - ${greatest_increase}\")\n",
    "print(f\"Greatest Decrease in Profits: {greatest_decrease_date} - ${greatest_decrease}\")\n",
    "\n",
    "\n",
    "#I don't have an understanding why My dates for the last two answers are one off of what it's really suppose to be.\n",
    "#If I can get an explanation on why that is so I can know for future reference, I would love the feedback\n"
   ]
  }
 ],
 "metadata": {
  "kernelspec": {
   "display_name": "Python 3 (ipykernel)",
   "language": "python",
   "name": "python3"
  },
  "language_info": {
   "codemirror_mode": {
    "name": "ipython",
    "version": 3
   },
   "file_extension": ".py",
   "mimetype": "text/x-python",
   "name": "python",
   "nbconvert_exporter": "python",
   "pygments_lexer": "ipython3",
   "version": "3.10.11"
  }
 },
 "nbformat": 4,
 "nbformat_minor": 5
}
